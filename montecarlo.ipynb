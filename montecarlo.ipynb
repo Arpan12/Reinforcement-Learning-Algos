{
 "cells": [
  {
   "cell_type": "code",
   "execution_count": 1,
   "metadata": {},
   "outputs": [],
   "source": [
    "import numpy as np\n",
    "from gridworldv2 import GridworldV2Env\n",
    "from value_function_utils import (\n",
    "    visualize_grid_action_values,\n",
    "    visualize_grid_state_values,\n",
    ")"
   ]
  },
  {
   "cell_type": "code",
   "execution_count": 8,
   "metadata": {},
   "outputs": [
    {
     "name": "stdout",
     "output_type": "stream",
     "text": [
      "===Monte Carlo Prediction===\n"
     ]
    },
    {
     "data": {
      "image/png": "[encoded data removed]",
      "text/plain": [
       "<Figure size 720x360 with 2 Axes>"
      ]
     },
     "metadata": {
      "needs_background": "light"
     },
     "output_type": "display_data"
    }
   ],
   "source": [
    "def monte_carlo_prediction(env,max_episodes):\n",
    "    grid_state_values = np.zeros(len(env.distinct_states))\n",
    "    grid_state_values[env.goal_state]=1\n",
    "    grid_state_values[env.bomb_state]=-1\n",
    "    gamma = 0.99\n",
    "    result = {state:[] for state in env.distinct_states}\n",
    "    for e in range(max_episodes):\n",
    "        g_t=0\n",
    "\n",
    "        done = False\n",
    "        env.reset()\n",
    "        trajectory=[]\n",
    "        while not done:\n",
    "            action = env.action_space.sample()\n",
    "            state,reward,done = env.step(action)\n",
    "            trajectory.append((state,reward))\n",
    "        \n",
    "        for idx,(state,reward) in enumerate(trajectory[::-1]):\n",
    "            g_t = reward+gamma*g_t\n",
    "\n",
    "            if state not in np.array(trajectory[::-1])[:,0][idx+1:]:\n",
    "                result[str(state)].append(g_t)\n",
    "                grid_state_values[state] = np.mean(result[str(state)])\n",
    "    visualize_grid_state_values(grid_state_values.reshape((3, 4)))            \n",
    "\n",
    "max_episodes = 4000\n",
    "env = GridworldV2Env(step_cost=-0.1, max_ep_length=30)\n",
    "print(f\"===Monte Carlo Prediction===\")\n",
    "monte_carlo_prediction(env, max_episodes)\n"
   ]
  },
  {
   "cell_type": "code",
   "execution_count": null,
   "metadata": {},
   "outputs": [],
   "source": [
    "def epsilon_greedy_policy(action_logit,epsilon=0.2):\n",
    "    idx = np.argmax(action_logit)\n",
    "    epsilon_decay = np.sqrt(sum([a**2 for a in action_logit]))\n",
    "\n",
    "    if(epsilon_decay==0.0):\n",
    "        epsilon_decay=1.0\n",
    "    \n",
    "    prob=[]\n",
    "\n",
    "    for i,a in enumerate(action_logit):\n",
    "        if i==idx:\n",
    "            prob.append(np.round(1-epsilon+epsilon/epsilon_decay,3))\n",
    "        else:\n",
    "            prob.append(np.round(epsilon/epsilon_decay,3))\n",
    "    \n",
    "    residual_error = sum(prob)-1\n",
    "\n",
    "    return np.array(prob) - residual_error/len(action_logit)\n",
    "\n",
    "\n",
    "\n",
    "\n",
    "def monte_carlo_control(env,max_episodes):\n",
    "    grid_state_action_value = np.zeros((len(env.distinct_states),4))\n",
    "    grid_state_action_value[env.goal_state,:]=1\n",
    "    grid_state_action_value[env.bomb_state,:]=-1\n",
    "    gamma = 0.99        \n",
    "    rewards = {}\n",
    "    for e in max_episodes:\n",
    "        g_t=0\n",
    "        done = False\n",
    "        state = env.reset()\n",
    "        trajectory=[]\n",
    "\n",
    "        while not done:\n",
    "            probs = epsilon_greedy_policy(grid_state_action_value[state])\n",
    "            action = np.random.choice(np.arange(4),probs)\n",
    "            state,reward,done = env.step(action)\n",
    "            trajectory.append((state,action,reward))\n",
    "        \n",
    "        for state,action,reward in reversed(trajectory):\n",
    "            gt = gt*gamma + reward\n",
    "            rewards[str(state)+\"-\"+str(action)] = \n",
    "            \n",
    "            \n",
    "\n"
   ]
  }
 ],
 "metadata": {
  "kernelspec": {
   "display_name": "Python 3",
   "language": "python",
   "name": "python3"
  },
  "language_info": {
   "codemirror_mode": {
    "name": "ipython",
    "version": 3
   },
   "file_extension": ".py",
   "mimetype": "text/x-python",
   "name": "python",
   "nbconvert_exporter": "python",
   "pygments_lexer": "ipython3",
   "version": "3.9.12"
  },
  "orig_nbformat": 4,
  "vscode": {
   "interpreter": {
    "hash": "36cf16204b8548560b1c020c4e8fb5b57f0e4c58016f52f2d4be01e192833930"
   }
  }
 },
 "nbformat": 4,
 "nbformat_minor": 2
}

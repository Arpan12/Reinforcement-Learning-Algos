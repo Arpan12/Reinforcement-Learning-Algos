{
 "cells": [
  {
   "cell_type": "code",
   "execution_count": 1,
   "metadata": {},
   "outputs": [],
   "source": [
    "import tensorflow as tf\n",
    "import tensorflow_probability as tfp\n",
    "from tensorflow import keras\n",
    "import numpy as np\n",
    "import gym\n"
   ]
  },
  {
   "cell_type": "code",
   "execution_count": 12,
   "metadata": {},
   "outputs": [],
   "source": [
    "import argparse\n",
    "from datetime import datetime\n",
    "import os\n",
    "import random\n",
    "from collections import deque"
   ]
  },
  {
   "cell_type": "code",
   "execution_count": 3,
   "metadata": {},
   "outputs": [],
   "source": [
    "tf.keras.backend.set_floatx(\"float64\")"
   ]
  },
  {
   "cell_type": "code",
   "execution_count": 5,
   "metadata": {},
   "outputs": [
    {
     "data": {
      "text/plain": [
       "_StoreAction(option_strings=['--logdir'], dest='logdir', nargs=None, const=None, default='logs', type=None, choices=None, help=None, metavar=None)"
      ]
     },
     "execution_count": 5,
     "metadata": {},
     "output_type": "execute_result"
    }
   ],
   "source": [
    "parser = argparse.ArgumentParser(prog=\"DoubleDQN\")\n",
    "parser.add_argument(\"--env\",default=\"CartPole-v0\")\n",
    "parser.add_argument(\"--lr\",type=float,default=0.005)\n",
    "parser.add_argument(\"--batch_size\",type=int,default=256)\n",
    "parser.add_argument(\"--gamma\",type=float,default=0.95)\n",
    "parser.add_argument(\"--eps\",type=float,default=1)\n",
    "parser.add_argument(\"--eps_decay\",type=float,default=0.995)\n",
    "parser.add_argument(\"--eps_min\",type=float,default=0.01)\n",
    "parser.add_argument(\"--logdir\",default=\"logs\")"
   ]
  },
  {
   "cell_type": "code",
   "execution_count": 10,
   "metadata": {},
   "outputs": [
    {
     "name": "stdout",
     "output_type": "stream",
     "text": [
      "saving log to logs/DoubleDQN/CartPole-v0/20230530-110213\n"
     ]
    }
   ],
   "source": [
    "args = parser.parse_args([])\n",
    "logdir = os.path.join(args.logdir,parser.prog,args.env,datetime.now().strftime(\"%Y%m%d-%H%M%S\"))\n",
    "print(f\"saving log to {logdir}\")\n",
    "writer = tf.summary.create_file_writer(logdir)\n"
   ]
  },
  {
   "cell_type": "code",
   "execution_count": null,
   "metadata": {},
   "outputs": [],
   "source": [
    "class ReplayBuffer:\n",
    "    def __init__(self,capacity=10000):\n",
    "        self.buffer = deque(maxlen=capacity)\n",
    "        \n",
    "    def store(self,state,action,reward,next_state,done):\n",
    "        self.buffer.append([state,action,reward,next_state,done])\n",
    "    \n",
    "    \n",
    "    def sample():\n",
    "        sample = random.sample()\n",
    "    "
   ]
  }
 ],
 "metadata": {
  "kernelspec": {
   "display_name": "Python 3",
   "language": "python",
   "name": "python3"
  },
  "language_info": {
   "codemirror_mode": {
    "name": "ipython",
    "version": 3
   },
   "file_extension": ".py",
   "mimetype": "text/x-python",
   "name": "python",
   "nbconvert_exporter": "python",
   "pygments_lexer": "ipython3",
   "version": "3.8.0"
  },
  "vscode": {
   "interpreter": {
    "hash": "36cf16204b8548560b1c020c4e8fb5b57f0e4c58016f52f2d4be01e192833930"
   }
  }
 },
 "nbformat": 4,
 "nbformat_minor": 2
}

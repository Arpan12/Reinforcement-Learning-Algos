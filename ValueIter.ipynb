{
 "cells": [
  {
   "cell_type": "code",
   "execution_count": 1,
   "metadata": {},
   "outputs": [
    {
     "name": "stdout",
     "output_type": "stream",
     "text": [
      "Observation space : Discrete(1)\n",
      "action space: Discrete(4)\n"
     ]
    }
   ],
   "source": [
    "import numpy as np\n",
    "from MazeEnv import MazeEnv\n",
    "from value_function_utils import visualize_maze_values\n",
    "\n",
    "env = MazeEnv()\n",
    "print(f\"Observation space : {env.observation_space}\")\n",
    "print(f\"action space: {env.action_space}\")\n"
   ]
  },
  {
   "cell_type": "code",
   "execution_count": 2,
   "metadata": {},
   "outputs": [],
   "source": [
    "from pathlib import Path"
   ]
  },
  {
   "cell_type": "code",
   "execution_count": 3,
   "metadata": {},
   "outputs": [],
   "source": [
    "state_dim  = env.distinct_states\n",
    "state_values = np.zeros(state_dim)\n",
    "q_values = np.zeros((state_dim,env.action_space.n))\n",
    "policy = np.zeros(state_dim)\n"
   ]
  },
  {
   "cell_type": "code",
   "execution_count": 4,
   "metadata": {},
   "outputs": [],
   "source": [
    "discount = 0.9\n",
    "iters = 1000"
   ]
  },
  {
   "cell_type": "code",
   "execution_count": 8,
   "metadata": {},
   "outputs": [],
   "source": [
    "def calculate_values(state,action):\n",
    "    slip_action = env.slip_action[action]\n",
    "    env.set_state(state)\n",
    "    slip_next_state,slip_reward,done = env.step(slip_action,slip=False)\n",
    "    \n",
    "    transitions=[]\n",
    "    transitions.append((slip_reward,slip_next_state,env.slip))\n",
    "    env.set_state(state)\n",
    "    next_state,reward,done = env.step(slip_action,slip=False)\n",
    "    if env.index_to_coordinate_map[int(next_state/8)]==env.goal_pos[0]:\n",
    "        print(next_state)\n",
    "    transitions.append((reward,next_state,1-env.slip))\n",
    "\n",
    "    #print(f\"{state} {action} {slip_next_state} {next_state}\")\n",
    "    v_sum=0\n",
    "    for reward,next_state,pi  in transitions:\n",
    "        v_sum+=pi*(reward+discount*state_values[next_state])\n",
    "    \n",
    "    return v_sum\n",
    "from pathlib import Path"
   ]
  },
  {
   "cell_type": "code",
   "execution_count": 9,
   "metadata": {},
   "outputs": [
    {
     "name": "stdout",
     "output_type": "stream",
     "text": [
      "[ 6.27621192  7.62559748  9.565938    8.6093442  11.62261467 11.8098\n",
      " 14.348907   17.7147      6.9735688   8.6093442   9.565938   10.62882\n",
      " 11.62261467 13.122      15.94323    17.7147      7.74840978 10.4603532\n",
      "  7.74840978  8.47288609 11.62261467 14.348907   12.9140163  15.94323\n",
      "  6.9735688   9.565938   11.62261467 10.62882    14.58       14.58\n",
      " 17.7147     17.7147      6.9735688  10.4603532  10.62882    10.62882\n",
      " 13.122      13.122      15.94323    17.7147      7.74840978 10.4603532\n",
      "  9.565938    8.6093442  11.62261467 14.348907   14.348907   17.7147\n",
      "  6.9735688   9.565938   13.122      11.8098     14.58       14.58\n",
      " 17.7147     21.87        6.9735688   9.565938   13.122      11.8098\n",
      " 16.2        16.2        17.7147     24.3         6.9735688  11.8098\n",
      " 11.62261467 11.8098     17.7147     14.58       17.7147     21.87\n",
      "  6.9735688  11.8098     11.8098     11.8098     16.2        18.\n",
      " 18.         27.          8.6093442  13.122      13.122      10.62882\n",
      " 17.7147     14.58       16.2        21.87        6.9735688  13.122\n",
      " 13.122       8.6093442  17.7147     14.58       14.58       21.87\n",
      "  6.27621192 10.         10.         10.         20.         20.\n",
      " 20.         30.          6.27621192 10.         10.62882    10.62882\n",
      " 20.         20.         20.         30.        ]\n"
     ]
    }
   ],
   "source": [
    "for i in range(iters):\n",
    "    v_s = np.zeros(state_dim)\n",
    "    for state in range(state_dim):\n",
    "        #print(env.index_to_coordinate_map[int(state/8)],env.goal_pos[0])\n",
    "        if env.index_to_coordinate_map[int(state/8)]==env.goal_pos[0]:\n",
    "            continue\n",
    "\n",
    "        v_max = float(\"-inf\")\n",
    "\n",
    "        for action in range(env.action_space.n):\n",
    "            v_sum = calculate_values(state,action)\n",
    "            v_max = max(v_max,v_sum)\n",
    "        \n",
    "        v_s[state] = v_max\n",
    "\n",
    "    state_values = np.copy(v_s)\n",
    "\n"
   ]
  },
  {
   "cell_type": "code",
   "execution_count": 10,
   "metadata": {},
   "outputs": [],
   "source": [
    "for state in range(state_dim):\n",
    "    for action in range(env.action_space.n):\n",
    "        q_values[state,action] = calculate_values(state,action)\n"
   ]
  },
  {
   "cell_type": "code",
   "execution_count": 11,
   "metadata": {},
   "outputs": [],
   "source": [
    "for state in range(state_dim):\n",
    "    policy[state] = np.argmax(q_values[state,:])"
   ]
  },
  {
   "cell_type": "code",
   "execution_count": 12,
   "metadata": {},
   "outputs": [
    {
     "name": "stdout",
     "output_type": "stream",
     "text": [
      "Action mapping:[0 - UP; 1 - DOWN; 2 - LEFT; 3 - RIGHT\n",
      "Optimal actions:\n",
      "[3. 3. 0. 3. 0. 3. 3. 0. 0. 0. 0. 0. 0. 2. 0. 0. 0. 1. 0. 1. 0. 1. 0. 0.\n",
      " 0. 3. 0. 0. 0. 0. 0. 0. 3. 0. 0. 0. 0. 0. 0. 0. 0. 1. 2. 1. 2. 1. 2. 0.\n",
      " 0. 0. 0. 1. 0. 3. 2. 3. 0. 0. 1. 0. 3. 0. 2. 0. 0. 0. 0. 2. 0. 2. 3. 1.\n",
      " 3. 3. 0. 1. 0. 0. 2. 0. 0. 0. 3. 1. 3. 2. 2. 2. 2. 3. 3. 2. 3. 0. 0. 0.\n",
      " 0. 2. 0. 0. 0. 0. 0. 0. 1. 1. 1. 1. 2. 2. 2. 2.]\n"
     ]
    },
    {
     "data": {
      "image/png": "[encoded data removed]",
      "text/plain": [
       "<Figure size 432x288 with 1 Axes>"
      ]
     },
     "metadata": {
      "needs_background": "light"
     },
     "output_type": "display_data"
    },
    {
     "data": {
      "image/png": "[encoded data removed]",
      "text/plain": [
       "<Figure size 432x288 with 1 Axes>"
      ]
     },
     "metadata": {
      "needs_background": "light"
     },
     "output_type": "display_data"
    },
    {
     "data": {
      "image/png": "[encoded data removed]",
      "text/plain": [
       "<Figure size 432x288 with 1 Axes>"
      ]
     },
     "metadata": {
      "needs_background": "light"
     },
     "output_type": "display_data"
    },
    {
     "data": {
      "image/png": "[encoded data removed]",
      "text/plain": [
       "<Figure size 432x288 with 1 Axes>"
      ]
     },
     "metadata": {
      "needs_background": "light"
     },
     "output_type": "display_data"
    },
    {
     "data": {
      "image/png": "[encoded data removed]",
      "text/plain": [
       "<Figure size 432x288 with 1 Axes>"
      ]
     },
     "metadata": {
      "needs_background": "light"
     },
     "output_type": "display_data"
    },
    {
     "data": {
      "image/png": "[encoded data removed]",
      "text/plain": [
       "<Figure size 432x288 with 1 Axes>"
      ]
     },
     "metadata": {
      "needs_background": "light"
     },
     "output_type": "display_data"
    },
    {
     "data": {
      "image/png": "[encoded data removed]",
      "text/plain": [
       "<Figure size 432x288 with 1 Axes>"
      ]
     },
     "metadata": {
      "needs_background": "light"
     },
     "output_type": "display_data"
    },
    {
     "data": {
      "image/png": "[encoded data removed]",
      "text/plain": [
       "<Figure size 432x288 with 1 Axes>"
      ]
     },
     "metadata": {
      "needs_background": "light"
     },
     "output_type": "display_data"
    }
   ],
   "source": [
    "Path(\"results\").mkdir(exist_ok=True)\n",
    "np.save(\"results/q_values\", q_values)\n",
    "np.save(\"results/optimal_policy\", policy)\n",
    "# print(q_values)\n",
    "print(\"Action mapping:[0 - UP; 1 - DOWN; 2 - LEFT; 3 - RIGHT\")\n",
    "print(\"Optimal actions:\")\n",
    "print(policy)\n",
    "visualize_maze_values(q_values, env)"
   ]
  }
 ],
 "metadata": {
  "kernelspec": {
   "display_name": "Python 3",
   "language": "python",
   "name": "python3"
  },
  "language_info": {
   "codemirror_mode": {
    "name": "ipython",
    "version": 3
   },
   "file_extension": ".py",
   "mimetype": "text/x-python",
   "name": "python",
   "nbconvert_exporter": "python",
   "pygments_lexer": "ipython3",
   "version": "3.9.12"
  },
  "orig_nbformat": 4,
  "vscode": {
   "interpreter": {
    "hash": "36cf16204b8548560b1c020c4e8fb5b57f0e4c58016f52f2d4be01e192833930"
   }
  }
 },
 "nbformat": 4,
 "nbformat_minor": 2
}
